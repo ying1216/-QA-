{
 "cells": [
  {
   "cell_type": "code",
   "execution_count": 13,
   "metadata": {},
   "outputs": [
    {
     "data": {
      "text/plain": [
       "'ymedacaiynuj'"
      ]
     },
     "execution_count": 13,
     "metadata": {},
     "output_type": "execute_result"
    }
   ],
   "source": [
    "def reverse(S):\n",
    "    new_list = []\n",
    "    for i in range(len(S)-1, -1, -1):\n",
    "        new_list.append(S[i])\n",
    "    s = \"\".join(new_list)\n",
    "    return s\n",
    "reverse(\"junyiacademy\")"
   ]
  },
  {
   "cell_type": "code",
   "execution_count": 12,
   "metadata": {},
   "outputs": [
    {
     "data": {
      "text/plain": [
       "' deppilf ssalc moor si tnatropmi'"
      ]
     },
     "execution_count": 12,
     "metadata": {},
     "output_type": "execute_result"
    }
   ],
   "source": [
    "def reverse_sentense(S):\n",
    "    new_list = []\n",
    "    flag = 0\n",
    "    for i in range(len(S)):\n",
    "        if S[i] == \" \":\n",
    "            s = reverse(S[flag:i+1])\n",
    "            new_list.append(s)\n",
    "            flag = i+1\n",
    "        elif i == len(S)-1:\n",
    "            s = reverse(S[flag:])\n",
    "            new_list.append(\" \"+ s)\n",
    "        else:\n",
    "            continue\n",
    "    a = \"\".join(new_list)\n",
    "    return a\n",
    "reverse_sentense('flipped class room is important')"
   ]
  },
  {
   "cell_type": "code",
   "execution_count": 15,
   "metadata": {},
   "outputs": [
    {
     "data": {
      "text/plain": [
       "9"
      ]
     },
     "execution_count": 15,
     "metadata": {},
     "output_type": "execute_result"
    }
   ],
   "source": [
    "def count_num(num):\n",
    "    list = []\n",
    "    for i in range(1, num+1):\n",
    "        if i % 15 == 0:\n",
    "            list.append(i)\n",
    "        else:\n",
    "            if i % 3 == 0 or i % 5 == 0:\n",
    "                continue\n",
    "            else:\n",
    "                list.append(i)\n",
    "    return len(list)\n",
    "count_num(15)"
   ]
  },
  {
   "cell_type": "markdown",
   "metadata": {},
   "source": [
    "我會選擇拿出標示出\"混和\"的袋子，查看是甚麼筆，因為每個標示都是錯誤的，因此該袋絕對不是混和，所以拿出什麼筆即是裝該種筆的袋子\n",
    "1. 若為\"鉛筆\"，則標示鉛筆那袋可能為\"混和\"或\"原子筆\"，但是標示原子筆那袋並不會是原子筆，所以可以推測鉛筆那袋裝的是\"原子筆\"，標示原子筆那袋即是\"混和\"\n",
    "2. 若為\"原子筆\"，則標示原子筆那袋可能為\"混合\"或\"鉛筆\"，同理，可推測出標示鉛筆那袋裝的是\"混合\"，而標示原子筆"
   ]
  },
  {
   "cell_type": "markdown",
   "metadata": {},
   "source": [
    "每個人都出270元，當中3 * 270元 = 810元，但是若服務生沒有暗槓60元，實則每個人只要出250元，總額即是3 * 250 = 750\n",
    "我認為是該算式欲求的目標給錯了，並非是900，而是該求750。\n",
    "所以要注意的是題目內給的算式當中，不該為加上六十，是必須減掉60才對，故810 - 60 = 750(原本應該的總價)\n",
    "換句話說，每個人當中的270元已經包含了服務生所暗槓的60元。\n",
    "\n",
    "以算式來說明:\n",
    "(300-30-20) * 3 = 750\n",
    "服務生暗槓後:\n",
    "(300-30) * 3 - 20 * 3 //服務生暗槓 = 750"
   ]
  }
 ],
 "metadata": {
  "kernelspec": {
   "display_name": "Python 3",
   "language": "python",
   "name": "python3"
  },
  "language_info": {
   "codemirror_mode": {
    "name": "ipython",
    "version": 3
   },
   "file_extension": ".py",
   "mimetype": "text/x-python",
   "name": "python",
   "nbconvert_exporter": "python",
   "pygments_lexer": "ipython3",
   "version": "3.7.4"
  }
 },
 "nbformat": 4,
 "nbformat_minor": 2
}
